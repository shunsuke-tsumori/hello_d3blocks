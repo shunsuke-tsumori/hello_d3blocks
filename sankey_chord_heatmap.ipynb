{
 "cells": [
  {
   "cell_type": "code",
   "execution_count": 1,
   "metadata": {
    "collapsed": true,
    "ExecuteTime": {
     "end_time": "2023-07-02T08:53:31.300038Z",
     "start_time": "2023-07-02T08:53:30.067946Z"
    }
   },
   "outputs": [],
   "source": [
    "from d3blocks import D3Blocks"
   ]
  },
  {
   "cell_type": "code",
   "execution_count": 2,
   "outputs": [
    {
     "name": "stderr",
     "output_type": "stream",
     "text": [
      "[d3blocks] >INFO> Cleaning edge_properties and config parameters..\n"
     ]
    }
   ],
   "source": [
    "d3 = D3Blocks()"
   ],
   "metadata": {
    "collapsed": false,
    "ExecuteTime": {
     "end_time": "2023-07-02T08:53:31.306622Z",
     "start_time": "2023-07-02T08:53:31.302215Z"
    }
   }
  },
  {
   "cell_type": "code",
   "execution_count": 11,
   "outputs": [
    {
     "name": "stderr",
     "output_type": "stream",
     "text": [
      "[d3blocks] >INFO> Extracting files..\n",
      "[d3blocks] >INFO> Import dataset: [energy]\n"
     ]
    }
   ],
   "source": [
    "df = d3.import_example(\"energy\")"
   ],
   "metadata": {
    "collapsed": false,
    "ExecuteTime": {
     "end_time": "2023-07-02T09:01:14.152707Z",
     "start_time": "2023-07-02T09:01:14.141967Z"
    }
   }
  },
  {
   "cell_type": "code",
   "execution_count": 4,
   "outputs": [
    {
     "data": {
      "text/plain": "                 source          target   weight\n0  Agricultural 'waste'  Bio-conversion  124.729\n1        Bio-conversion          Liquid    0.597\n2        Bio-conversion          Losses   26.862\n3        Bio-conversion           Solid  280.322\n4        Bio-conversion             Gas   81.144",
      "text/html": "<div>\n<style scoped>\n    .dataframe tbody tr th:only-of-type {\n        vertical-align: middle;\n    }\n\n    .dataframe tbody tr th {\n        vertical-align: top;\n    }\n\n    .dataframe thead th {\n        text-align: right;\n    }\n</style>\n<table border=\"1\" class=\"dataframe\">\n  <thead>\n    <tr style=\"text-align: right;\">\n      <th></th>\n      <th>source</th>\n      <th>target</th>\n      <th>weight</th>\n    </tr>\n  </thead>\n  <tbody>\n    <tr>\n      <th>0</th>\n      <td>Agricultural 'waste'</td>\n      <td>Bio-conversion</td>\n      <td>124.729</td>\n    </tr>\n    <tr>\n      <th>1</th>\n      <td>Bio-conversion</td>\n      <td>Liquid</td>\n      <td>0.597</td>\n    </tr>\n    <tr>\n      <th>2</th>\n      <td>Bio-conversion</td>\n      <td>Losses</td>\n      <td>26.862</td>\n    </tr>\n    <tr>\n      <th>3</th>\n      <td>Bio-conversion</td>\n      <td>Solid</td>\n      <td>280.322</td>\n    </tr>\n    <tr>\n      <th>4</th>\n      <td>Bio-conversion</td>\n      <td>Gas</td>\n      <td>81.144</td>\n    </tr>\n  </tbody>\n</table>\n</div>"
     },
     "execution_count": 4,
     "metadata": {},
     "output_type": "execute_result"
    }
   ],
   "source": [
    "df.head()"
   ],
   "metadata": {
    "collapsed": false,
    "ExecuteTime": {
     "end_time": "2023-07-02T08:53:45.435441Z",
     "start_time": "2023-07-02T08:53:45.430550Z"
    }
   }
  },
  {
   "cell_type": "code",
   "execution_count": 8,
   "outputs": [
    {
     "name": "stderr",
     "output_type": "stream",
     "text": [
      "[d3blocks] >INFO> Cleaning edge_properties and config parameters..\n",
      "[d3blocks] >INFO> Initializing [Sankey]\n",
      "[d3blocks] >INFO> filepath is set to [/var/folders/70/h52ybwk93f90q3nr1gjxhcmh0000gn/T/d3blocks/sankey.html]\n",
      "[d3blocks] >INFO> Convert to Frame.\n",
      "[d3blocks] >INFO> Node properties are set.\n",
      "[d3blocks] >INFO> Edge properties are set.\n",
      "[d3blocks] >INFO> File already exists and will be overwritten: [/var/folders/70/h52ybwk93f90q3nr1gjxhcmh0000gn/T/d3blocks/sankey.html]\n",
      "[d3blocks] >INFO> File not found: [file:////var/folders/70/h52ybwk93f90q3nr1gjxhcmh0000gn/T/d3blocks/sankey.html]\n",
      "[d3blocks] >INFO> Open browser: file:////var/folders/70/h52ybwk93f90q3nr1gjxhcmh0000gn/T/d3blocks/sankey.html\n"
     ]
    }
   ],
   "source": [
    "d3.sankey(df,\n",
    "          title='Sankey - d3blocks',\n",
    "          filepath='sankey.html',\n",
    "          figsize=(1000, 600),\n",
    "          node={\"align\": \"justify\", \"width\": 15, \"padding\": 15, \"color\": \"currentColor\"},\n",
    "          link={\"color\": \"source-target\", \"stroke_opacity\": 0.5},\n",
    "          margin={\"top\": 5, \"right\": 1, \"bottom\": 5, \"left\": 1},\n",
    "          showfig=True,\n",
    "          overwrite=True)"
   ],
   "metadata": {
    "collapsed": false,
    "ExecuteTime": {
     "end_time": "2023-07-02T08:58:43.050290Z",
     "start_time": "2023-07-02T08:58:42.302036Z"
    }
   }
  },
  {
   "cell_type": "code",
   "execution_count": 9,
   "outputs": [
    {
     "name": "stderr",
     "output_type": "stream",
     "text": [
      "[d3blocks] >INFO> Cleaning edge_properties and config parameters..\n",
      "[d3blocks] >INFO> Initializing [Chord]\n",
      "[d3blocks] >INFO> filepath is set to [/var/folders/70/h52ybwk93f90q3nr1gjxhcmh0000gn/T/d3blocks/chord.html]\n",
      "[d3blocks] >INFO> Convert to Frame.\n",
      "[d3blocks] >INFO> Node properties are set.\n",
      "[d3blocks] >INFO> Set edge-opacity based on the [source] node-opacity.\n",
      "[d3blocks] >INFO> Set edge-colors based on the [source] node-color.\n",
      "[d3blocks] >INFO> Edge properties are set.\n",
      "[d3blocks] >INFO> File not found: [file:////var/folders/70/h52ybwk93f90q3nr1gjxhcmh0000gn/T/d3blocks/chord.html]\n",
      "[d3blocks] >INFO> Open browser: file:////var/folders/70/h52ybwk93f90q3nr1gjxhcmh0000gn/T/d3blocks/chord.html\n"
     ]
    }
   ],
   "source": [
    "# chord\n",
    "d3.chord(df, filepath=\"chord.html\")"
   ],
   "metadata": {
    "collapsed": false,
    "ExecuteTime": {
     "end_time": "2023-07-02T08:59:29.233243Z",
     "start_time": "2023-07-02T08:59:28.949376Z"
    }
   }
  },
  {
   "cell_type": "code",
   "execution_count": 22,
   "outputs": [
    {
     "name": "stderr",
     "output_type": "stream",
     "text": [
      "[d3blocks] >INFO> Extracting files..\n",
      "[d3blocks] >INFO> Import dataset: [stormofswords]\n",
      "[d3blocks] >INFO> Cleaning edge_properties and config parameters..\n",
      "[d3blocks] >INFO> Initializing [Heatmap]\n",
      "[d3blocks] >INFO> filepath is set to [/var/folders/70/h52ybwk93f90q3nr1gjxhcmh0000gn/T/d3blocks/heatmap.html]\n",
      "[d3blocks] >INFO> Convert to Frame.\n",
      "[d3blocks] >INFO> Node properties are set.\n",
      "[clusteval] >INFO> Saving data in memory.\n",
      "[clusteval] >INFO> Fit with method=[agglomerative], metric=[euclidean], linkage=[ward]\n",
      "[clusteval] >INFO> Evaluate using silhouette.\n",
      "[clusteval] >INFO: 100%|██████████| 23/23 [00:00<00:00, 627.93it/s]\n",
      "[clusteval] >INFO> Compute dendrogram threshold.\n",
      "[clusteval] >INFO> Optimal number clusters detected: [4].\n",
      "[clusteval] >INFO> Fin.\n",
      "[clusteval] >INFO> File not found: [file:////var/folders/70/h52ybwk93f90q3nr1gjxhcmh0000gn/T/d3blocks/heatmap.html]\n",
      "[clusteval] >INFO> Open browser: file:////var/folders/70/h52ybwk93f90q3nr1gjxhcmh0000gn/T/d3blocks/heatmap.html\n"
     ]
    }
   ],
   "source": [
    "# heatmap\n",
    "df = d3.import_example('stormofswords')\n",
    "df = d3.vec2adjmat(df['source'], df['target'], weight=df['weight'], symmetric=True)\n",
    "d3.heatmap(df)"
   ],
   "metadata": {
    "collapsed": false,
    "ExecuteTime": {
     "end_time": "2023-07-02T09:12:37.559671Z",
     "start_time": "2023-07-02T09:12:34.779051Z"
    }
   }
  },
  {
   "cell_type": "code",
   "execution_count": 24,
   "outputs": [
    {
     "data": {
      "text/plain": "         Aegon  Aemon  Alliser  Anguy  Arya  Balon  Barristan  Belwas  Beric  \\\nAegon      0.0    0.0      0.0    0.0   0.0    0.0        0.0     0.0    0.0   \nAemon      0.0    0.0      0.0    0.0   0.0    0.0        0.0     0.0    0.0   \nAlliser    0.0    0.0      0.0    0.0   0.0    0.0        0.0     0.0    0.0   \nAnguy      0.0    0.0      0.0    0.0   0.0    0.0        0.0     0.0    0.0   \nArya       0.0    0.0      0.0   11.0   0.0    0.0        0.0     0.0   23.0   \n\n         Bowen  ...  Walder  Worm  Ygritte  Aerys  Amory  Daenerys  Eddard  \\\nAegon      0.0  ...     0.0   0.0      0.0    0.0    0.0       0.0     0.0   \nAemon      0.0  ...     0.0   0.0      0.0    0.0    0.0       0.0     0.0   \nAlliser    0.0  ...     0.0   0.0      0.0    0.0    0.0       0.0     0.0   \nAnguy      0.0  ...     0.0   0.0      0.0    0.0    0.0       0.0     0.0   \nArya       0.0  ...     0.0   0.0      0.0    0.0    0.0       0.0     0.0   \n\n         Jon Arryn  Shireen  Walton  \nAegon          0.0      0.0     0.0  \nAemon          0.0      0.0     0.0  \nAlliser        0.0      0.0     0.0  \nAnguy          0.0      0.0     0.0  \nArya           0.0      0.0     0.0  \n\n[5 rows x 107 columns]",
      "text/html": "<div>\n<style scoped>\n    .dataframe tbody tr th:only-of-type {\n        vertical-align: middle;\n    }\n\n    .dataframe tbody tr th {\n        vertical-align: top;\n    }\n\n    .dataframe thead th {\n        text-align: right;\n    }\n</style>\n<table border=\"1\" class=\"dataframe\">\n  <thead>\n    <tr style=\"text-align: right;\">\n      <th></th>\n      <th>Aegon</th>\n      <th>Aemon</th>\n      <th>Alliser</th>\n      <th>Anguy</th>\n      <th>Arya</th>\n      <th>Balon</th>\n      <th>Barristan</th>\n      <th>Belwas</th>\n      <th>Beric</th>\n      <th>Bowen</th>\n      <th>...</th>\n      <th>Walder</th>\n      <th>Worm</th>\n      <th>Ygritte</th>\n      <th>Aerys</th>\n      <th>Amory</th>\n      <th>Daenerys</th>\n      <th>Eddard</th>\n      <th>Jon Arryn</th>\n      <th>Shireen</th>\n      <th>Walton</th>\n    </tr>\n  </thead>\n  <tbody>\n    <tr>\n      <th>Aegon</th>\n      <td>0.0</td>\n      <td>0.0</td>\n      <td>0.0</td>\n      <td>0.0</td>\n      <td>0.0</td>\n      <td>0.0</td>\n      <td>0.0</td>\n      <td>0.0</td>\n      <td>0.0</td>\n      <td>0.0</td>\n      <td>...</td>\n      <td>0.0</td>\n      <td>0.0</td>\n      <td>0.0</td>\n      <td>0.0</td>\n      <td>0.0</td>\n      <td>0.0</td>\n      <td>0.0</td>\n      <td>0.0</td>\n      <td>0.0</td>\n      <td>0.0</td>\n    </tr>\n    <tr>\n      <th>Aemon</th>\n      <td>0.0</td>\n      <td>0.0</td>\n      <td>0.0</td>\n      <td>0.0</td>\n      <td>0.0</td>\n      <td>0.0</td>\n      <td>0.0</td>\n      <td>0.0</td>\n      <td>0.0</td>\n      <td>0.0</td>\n      <td>...</td>\n      <td>0.0</td>\n      <td>0.0</td>\n      <td>0.0</td>\n      <td>0.0</td>\n      <td>0.0</td>\n      <td>0.0</td>\n      <td>0.0</td>\n      <td>0.0</td>\n      <td>0.0</td>\n      <td>0.0</td>\n    </tr>\n    <tr>\n      <th>Alliser</th>\n      <td>0.0</td>\n      <td>0.0</td>\n      <td>0.0</td>\n      <td>0.0</td>\n      <td>0.0</td>\n      <td>0.0</td>\n      <td>0.0</td>\n      <td>0.0</td>\n      <td>0.0</td>\n      <td>0.0</td>\n      <td>...</td>\n      <td>0.0</td>\n      <td>0.0</td>\n      <td>0.0</td>\n      <td>0.0</td>\n      <td>0.0</td>\n      <td>0.0</td>\n      <td>0.0</td>\n      <td>0.0</td>\n      <td>0.0</td>\n      <td>0.0</td>\n    </tr>\n    <tr>\n      <th>Anguy</th>\n      <td>0.0</td>\n      <td>0.0</td>\n      <td>0.0</td>\n      <td>0.0</td>\n      <td>0.0</td>\n      <td>0.0</td>\n      <td>0.0</td>\n      <td>0.0</td>\n      <td>0.0</td>\n      <td>0.0</td>\n      <td>...</td>\n      <td>0.0</td>\n      <td>0.0</td>\n      <td>0.0</td>\n      <td>0.0</td>\n      <td>0.0</td>\n      <td>0.0</td>\n      <td>0.0</td>\n      <td>0.0</td>\n      <td>0.0</td>\n      <td>0.0</td>\n    </tr>\n    <tr>\n      <th>Arya</th>\n      <td>0.0</td>\n      <td>0.0</td>\n      <td>0.0</td>\n      <td>11.0</td>\n      <td>0.0</td>\n      <td>0.0</td>\n      <td>0.0</td>\n      <td>0.0</td>\n      <td>23.0</td>\n      <td>0.0</td>\n      <td>...</td>\n      <td>0.0</td>\n      <td>0.0</td>\n      <td>0.0</td>\n      <td>0.0</td>\n      <td>0.0</td>\n      <td>0.0</td>\n      <td>0.0</td>\n      <td>0.0</td>\n      <td>0.0</td>\n      <td>0.0</td>\n    </tr>\n  </tbody>\n</table>\n<p>5 rows × 107 columns</p>\n</div>"
     },
     "execution_count": 24,
     "metadata": {},
     "output_type": "execute_result"
    }
   ],
   "source": [
    "df.head()"
   ],
   "metadata": {
    "collapsed": false,
    "ExecuteTime": {
     "end_time": "2023-07-02T09:14:41.276257Z",
     "start_time": "2023-07-02T09:14:41.269389Z"
    }
   }
  },
  {
   "cell_type": "code",
   "execution_count": 24,
   "outputs": [],
   "source": [],
   "metadata": {
    "collapsed": false,
    "ExecuteTime": {
     "end_time": "2023-07-02T09:16:52.058214Z",
     "start_time": "2023-07-02T09:16:52.053795Z"
    }
   }
  },
  {
   "cell_type": "code",
   "execution_count": 24,
   "outputs": [],
   "source": [],
   "metadata": {
    "collapsed": false,
    "ExecuteTime": {
     "end_time": "2023-07-02T09:16:52.393486Z",
     "start_time": "2023-07-02T09:16:52.389444Z"
    }
   }
  },
  {
   "cell_type": "code",
   "execution_count": 25,
   "outputs": [],
   "source": [
    "import pandas as pd"
   ],
   "metadata": {
    "collapsed": false,
    "ExecuteTime": {
     "end_time": "2023-07-02T09:17:05.339678Z",
     "start_time": "2023-07-02T09:17:05.334935Z"
    }
   }
  },
  {
   "cell_type": "code",
   "execution_count": 26,
   "outputs": [
    {
     "name": "stderr",
     "output_type": "stream",
     "text": [
      "[clusteval] >INFO> Cleaning edge_properties and config parameters..\n"
     ]
    }
   ],
   "source": [
    "d3 = D3Blocks()"
   ],
   "metadata": {
    "collapsed": false,
    "ExecuteTime": {
     "end_time": "2023-07-02T09:17:12.907210Z",
     "start_time": "2023-07-02T09:17:12.902228Z"
    }
   }
  },
  {
   "cell_type": "code",
   "execution_count": 27,
   "outputs": [
    {
     "data": {
      "text/plain": "                            Source              Target        Type  weight  \\\n0                   Addam-Marbrand     Jaime-Lannister  Undirected       3   \n1                   Addam-Marbrand     Tywin-Lannister  Undirected       6   \n2                Aegon-I-Targaryen  Daenerys-Targaryen  Undirected       5   \n3                Aegon-I-Targaryen        Eddard-Stark  Undirected       4   \n4  Aemon-Targaryen-(Maester-Aemon)      Alliser-Thorne  Undirected       4   \n\n   book  \n0     1  \n1     1  \n2     1  \n3     1  \n4     1  ",
      "text/html": "<div>\n<style scoped>\n    .dataframe tbody tr th:only-of-type {\n        vertical-align: middle;\n    }\n\n    .dataframe tbody tr th {\n        vertical-align: top;\n    }\n\n    .dataframe thead th {\n        text-align: right;\n    }\n</style>\n<table border=\"1\" class=\"dataframe\">\n  <thead>\n    <tr style=\"text-align: right;\">\n      <th></th>\n      <th>Source</th>\n      <th>Target</th>\n      <th>Type</th>\n      <th>weight</th>\n      <th>book</th>\n    </tr>\n  </thead>\n  <tbody>\n    <tr>\n      <th>0</th>\n      <td>Addam-Marbrand</td>\n      <td>Jaime-Lannister</td>\n      <td>Undirected</td>\n      <td>3</td>\n      <td>1</td>\n    </tr>\n    <tr>\n      <th>1</th>\n      <td>Addam-Marbrand</td>\n      <td>Tywin-Lannister</td>\n      <td>Undirected</td>\n      <td>6</td>\n      <td>1</td>\n    </tr>\n    <tr>\n      <th>2</th>\n      <td>Aegon-I-Targaryen</td>\n      <td>Daenerys-Targaryen</td>\n      <td>Undirected</td>\n      <td>5</td>\n      <td>1</td>\n    </tr>\n    <tr>\n      <th>3</th>\n      <td>Aegon-I-Targaryen</td>\n      <td>Eddard-Stark</td>\n      <td>Undirected</td>\n      <td>4</td>\n      <td>1</td>\n    </tr>\n    <tr>\n      <th>4</th>\n      <td>Aemon-Targaryen-(Maester-Aemon)</td>\n      <td>Alliser-Thorne</td>\n      <td>Undirected</td>\n      <td>4</td>\n      <td>1</td>\n    </tr>\n  </tbody>\n</table>\n</div>"
     },
     "execution_count": 27,
     "metadata": {},
     "output_type": "execute_result"
    }
   ],
   "source": [
    "df = pd.read_csv(\"book1.csv\")\n",
    "df.head()"
   ],
   "metadata": {
    "collapsed": false,
    "ExecuteTime": {
     "end_time": "2023-07-02T09:17:33.428141Z",
     "start_time": "2023-07-02T09:17:33.408538Z"
    }
   }
  },
  {
   "cell_type": "code",
   "execution_count": 28,
   "outputs": [],
   "source": [
    "df_selected = df.iloc[:300, :]"
   ],
   "metadata": {
    "collapsed": false,
    "ExecuteTime": {
     "end_time": "2023-07-02T09:18:22.993007Z",
     "start_time": "2023-07-02T09:18:22.980044Z"
    }
   }
  },
  {
   "cell_type": "code",
   "execution_count": 29,
   "outputs": [
    {
     "data": {
      "text/plain": "Index(['Source', 'Target', 'Type', 'weight', 'book'], dtype='object')"
     },
     "execution_count": 29,
     "metadata": {},
     "output_type": "execute_result"
    }
   ],
   "source": [
    "df_selected.columns"
   ],
   "metadata": {
    "collapsed": false,
    "ExecuteTime": {
     "end_time": "2023-07-02T09:19:04.186640Z",
     "start_time": "2023-07-02T09:19:04.180509Z"
    }
   }
  },
  {
   "cell_type": "code",
   "execution_count": 30,
   "outputs": [],
   "source": [
    "df_selected.columns = ['source', 'target', 'Type', 'weight', 'book']"
   ],
   "metadata": {
    "collapsed": false,
    "ExecuteTime": {
     "end_time": "2023-07-02T09:19:33.303579Z",
     "start_time": "2023-07-02T09:19:33.292085Z"
    }
   }
  },
  {
   "cell_type": "code",
   "execution_count": 31,
   "outputs": [
    {
     "name": "stderr",
     "output_type": "stream",
     "text": [
      "[clusteval] >INFO> Cleaning edge_properties and config parameters..\n",
      "[clusteval] >INFO> Initializing [Sankey]\n",
      "[clusteval] >INFO> filepath is set to [/var/folders/70/h52ybwk93f90q3nr1gjxhcmh0000gn/T/d3blocks/sankey.html]\n",
      "[clusteval] >INFO> Convert to Frame.\n",
      "[clusteval] >INFO> Node properties are set.\n",
      "[clusteval] >INFO> Edge properties are set.\n",
      "[clusteval] >INFO> File already exists and will be overwritten: [/var/folders/70/h52ybwk93f90q3nr1gjxhcmh0000gn/T/d3blocks/sankey.html]\n",
      "[clusteval] >INFO> File not found: [file:////var/folders/70/h52ybwk93f90q3nr1gjxhcmh0000gn/T/d3blocks/sankey.html]\n",
      "[clusteval] >INFO> Open browser: file:////var/folders/70/h52ybwk93f90q3nr1gjxhcmh0000gn/T/d3blocks/sankey.html\n"
     ]
    }
   ],
   "source": [
    "d3.sankey(df_selected)"
   ],
   "metadata": {
    "collapsed": false,
    "ExecuteTime": {
     "end_time": "2023-07-02T09:19:43.085603Z",
     "start_time": "2023-07-02T09:19:42.329392Z"
    }
   }
  },
  {
   "cell_type": "code",
   "execution_count": 32,
   "outputs": [
    {
     "name": "stderr",
     "output_type": "stream",
     "text": [
      "[clusteval] >INFO> Cleaning edge_properties and config parameters..\n",
      "[clusteval] >INFO> Initializing [Chord]\n",
      "[clusteval] >INFO> filepath is set to [/var/folders/70/h52ybwk93f90q3nr1gjxhcmh0000gn/T/d3blocks/chord.html]\n",
      "[clusteval] >INFO> Convert to Frame.\n",
      "[clusteval] >INFO> Node properties are set.\n",
      "/Users/tsumorishunsuke/PycharmProjects/hello_d3blocks/venv/lib/python3.10/site-packages/d3blocks/utils.py:345: SettingWithCopyWarning: \n",
      "A value is trying to be set on a copy of a slice from a DataFrame.\n",
      "Try using .loc[row_indexer,col_indexer] = value instead\n",
      "\n",
      "See the caveats in the documentation: https://pandas.pydata.org/pandas-docs/stable/user_guide/indexing.html#returning-a-view-versus-a-copy\n",
      "  if 'weight' in X.columns: X['weight'] = X['weight'].astype(float)\n",
      "[clusteval] >INFO> Set edge-opacity based on the [source] node-opacity.\n",
      "[clusteval] >INFO> Set edge-colors based on the [source] node-color.\n",
      "[clusteval] >INFO> Edge properties are set.\n",
      "[clusteval] >INFO> File already exists and will be overwritten: [/var/folders/70/h52ybwk93f90q3nr1gjxhcmh0000gn/T/d3blocks/chord.html]\n",
      "[clusteval] >INFO> File not found: [file:////var/folders/70/h52ybwk93f90q3nr1gjxhcmh0000gn/T/d3blocks/chord.html]\n",
      "[clusteval] >INFO> Open browser: file:////var/folders/70/h52ybwk93f90q3nr1gjxhcmh0000gn/T/d3blocks/chord.html\n"
     ]
    }
   ],
   "source": [
    "d3.chord(df_selected)"
   ],
   "metadata": {
    "collapsed": false,
    "ExecuteTime": {
     "end_time": "2023-07-02T09:20:26.080413Z",
     "start_time": "2023-07-02T09:20:25.196437Z"
    }
   }
  },
  {
   "cell_type": "code",
   "execution_count": 33,
   "outputs": [],
   "source": [],
   "metadata": {
    "collapsed": false,
    "ExecuteTime": {
     "end_time": "2023-07-02T09:22:27.048724Z",
     "start_time": "2023-07-02T09:22:27.044402Z"
    }
   }
  },
  {
   "cell_type": "code",
   "execution_count": 33,
   "outputs": [],
   "source": [],
   "metadata": {
    "collapsed": false,
    "ExecuteTime": {
     "end_time": "2023-07-02T09:22:29.198291Z",
     "start_time": "2023-07-02T09:22:29.192581Z"
    }
   }
  },
  {
   "cell_type": "code",
   "execution_count": null,
   "outputs": [],
   "source": [],
   "metadata": {
    "collapsed": false
   }
  }
 ],
 "metadata": {
  "kernelspec": {
   "display_name": "Python 3",
   "language": "python",
   "name": "python3"
  },
  "language_info": {
   "codemirror_mode": {
    "name": "ipython",
    "version": 2
   },
   "file_extension": ".py",
   "mimetype": "text/x-python",
   "name": "python",
   "nbconvert_exporter": "python",
   "pygments_lexer": "ipython2",
   "version": "2.7.6"
  }
 },
 "nbformat": 4,
 "nbformat_minor": 0
}
