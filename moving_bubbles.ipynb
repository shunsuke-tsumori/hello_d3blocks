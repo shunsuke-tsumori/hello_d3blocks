{
 "cells": [
  {
   "cell_type": "code",
   "execution_count": 1,
   "metadata": {
    "collapsed": true,
    "ExecuteTime": {
     "end_time": "2023-07-02T09:57:53.501752Z",
     "start_time": "2023-07-02T09:57:52.558651Z"
    }
   },
   "outputs": [],
   "source": [
    "from d3blocks import D3Blocks"
   ]
  },
  {
   "cell_type": "code",
   "execution_count": 2,
   "outputs": [
    {
     "name": "stderr",
     "output_type": "stream",
     "text": [
      "[d3blocks] >INFO> Cleaning edge_properties and config parameters..\n"
     ]
    }
   ],
   "source": [
    "d3 = D3Blocks()"
   ],
   "metadata": {
    "collapsed": false,
    "ExecuteTime": {
     "end_time": "2023-07-02T09:58:05.232372Z",
     "start_time": "2023-07-02T09:58:05.226339Z"
    }
   }
  },
  {
   "cell_type": "code",
   "execution_count": 4,
   "outputs": [],
   "source": [
    "df = d3.import_example('random_time', n=10000, c=300, date_start=\"1-1-2000 00:10:05\", date_stop=\"1-1-2000 23:59:59\")"
   ],
   "metadata": {
    "collapsed": false,
    "ExecuteTime": {
     "end_time": "2023-07-02T10:01:55.826859Z",
     "start_time": "2023-07-02T10:01:51.165477Z"
    }
   }
  },
  {
   "cell_type": "code",
   "execution_count": 5,
   "outputs": [
    {
     "data": {
      "text/plain": "             datetime sample_id   state\n0 2000-01-01 00:10:07         8   Sport\n1 2000-01-01 00:10:13       211    Home\n2 2000-01-01 00:10:33       141  Travel\n3 2000-01-01 00:10:44       109    Sick\n4 2000-01-01 00:11:24        57    Sick",
      "text/html": "<div>\n<style scoped>\n    .dataframe tbody tr th:only-of-type {\n        vertical-align: middle;\n    }\n\n    .dataframe tbody tr th {\n        vertical-align: top;\n    }\n\n    .dataframe thead th {\n        text-align: right;\n    }\n</style>\n<table border=\"1\" class=\"dataframe\">\n  <thead>\n    <tr style=\"text-align: right;\">\n      <th></th>\n      <th>datetime</th>\n      <th>sample_id</th>\n      <th>state</th>\n    </tr>\n  </thead>\n  <tbody>\n    <tr>\n      <th>0</th>\n      <td>2000-01-01 00:10:07</td>\n      <td>8</td>\n      <td>Sport</td>\n    </tr>\n    <tr>\n      <th>1</th>\n      <td>2000-01-01 00:10:13</td>\n      <td>211</td>\n      <td>Home</td>\n    </tr>\n    <tr>\n      <th>2</th>\n      <td>2000-01-01 00:10:33</td>\n      <td>141</td>\n      <td>Travel</td>\n    </tr>\n    <tr>\n      <th>3</th>\n      <td>2000-01-01 00:10:44</td>\n      <td>109</td>\n      <td>Sick</td>\n    </tr>\n    <tr>\n      <th>4</th>\n      <td>2000-01-01 00:11:24</td>\n      <td>57</td>\n      <td>Sick</td>\n    </tr>\n  </tbody>\n</table>\n</div>"
     },
     "execution_count": 5,
     "metadata": {},
     "output_type": "execute_result"
    }
   ],
   "source": [
    "df.head()"
   ],
   "metadata": {
    "collapsed": false,
    "ExecuteTime": {
     "end_time": "2023-07-02T10:02:40.471521Z",
     "start_time": "2023-07-02T10:02:40.461473Z"
    }
   }
  },
  {
   "cell_type": "code",
   "execution_count": 6,
   "outputs": [
    {
     "data": {
      "text/plain": "sample_id\n53     60\n288    60\n1      60\n136    60\n242    54\n       ..\n149    15\n134    15\n62     15\n39     12\n275     6\nName: count, Length: 301, dtype: int64"
     },
     "execution_count": 6,
     "metadata": {},
     "output_type": "execute_result"
    }
   ],
   "source": [
    "df[\"sample_id\"].value_counts()"
   ],
   "metadata": {
    "collapsed": false,
    "ExecuteTime": {
     "end_time": "2023-07-02T10:04:40.496234Z",
     "start_time": "2023-07-02T10:04:40.491599Z"
    }
   }
  },
  {
   "cell_type": "code",
   "execution_count": 7,
   "outputs": [
    {
     "name": "stderr",
     "output_type": "stream",
     "text": [
      "[d3blocks] >INFO> Cleaning edge_properties and config parameters..\n",
      "[d3blocks] >INFO> Initializing [Movingbubbles]\n",
      "[d3blocks] >INFO> filepath is set to [/Users/tsumorishunsuke/PycharmProjects/hello_d3blocks/moving_bubbles.html]\n",
      "[d3blocks] >INFO> Convert to Frame.\n",
      "[d3blocks] >INFO> Node properties are set.\n",
      "[d3blocks] >INFO> Standardizing input dataframe using method: [None].\n",
      "[d3blocks] >INFO> Set all nodes to size: 5\n",
      "[d3blocks] >INFO> Edge properties are set.\n"
     ]
    },
    {
     "name": "stdout",
     "output_type": "stream",
     "text": [
      "[colourmap]> Warning: Colormap [Set1] can not create [301] unique colors! Available unique colors: [9].\n"
     ]
    },
    {
     "name": "stderr",
     "output_type": "stream",
     "text": [
      "[d3blocks] >INFO> File not found: [file:////Users/tsumorishunsuke/PycharmProjects/hello_d3blocks/moving_bubbles.html]\n",
      "[d3blocks] >INFO> Open browser: file:////Users/tsumorishunsuke/PycharmProjects/hello_d3blocks/moving_bubbles.html\n"
     ]
    }
   ],
   "source": [
    "d3.movingbubbles(df, datetime=\"datetime\", state=\"state\", sample_id=\"sample_id\", standardize=None, speed={\"slow\": 1000, \"medium\": 200, \"fast\": 10}, cmap=\"Set1\", filepath=\"./moving_bubbles.html\")"
   ],
   "metadata": {
    "collapsed": false,
    "ExecuteTime": {
     "end_time": "2023-07-02T10:06:22.407025Z",
     "start_time": "2023-07-02T10:06:21.891465Z"
    }
   }
  },
  {
   "cell_type": "code",
   "execution_count": null,
   "outputs": [],
   "source": [],
   "metadata": {
    "collapsed": false
   }
  }
 ],
 "metadata": {
  "kernelspec": {
   "display_name": "Python 3",
   "language": "python",
   "name": "python3"
  },
  "language_info": {
   "codemirror_mode": {
    "name": "ipython",
    "version": 2
   },
   "file_extension": ".py",
   "mimetype": "text/x-python",
   "name": "python",
   "nbconvert_exporter": "python",
   "pygments_lexer": "ipython2",
   "version": "2.7.6"
  }
 },
 "nbformat": 4,
 "nbformat_minor": 0
}
