{
 "cells": [
  {
   "cell_type": "code",
   "execution_count": 2,
   "metadata": {
    "collapsed": true,
    "ExecuteTime": {
     "end_time": "2023-07-02T06:33:49.626405Z",
     "start_time": "2023-07-02T06:33:46.950636Z"
    }
   },
   "outputs": [],
   "source": [
    "from d3blocks import D3Blocks"
   ]
  },
  {
   "cell_type": "code",
   "execution_count": 3,
   "outputs": [
    {
     "name": "stderr",
     "output_type": "stream",
     "text": [
      "[d3blocks] >INFO> Cleaning edge_properties and config parameters..\n"
     ]
    }
   ],
   "source": [
    "d3 = D3Blocks()\n"
   ],
   "metadata": {
    "collapsed": false,
    "ExecuteTime": {
     "end_time": "2023-07-02T06:34:07.649950Z",
     "start_time": "2023-07-02T06:34:07.625473Z"
    }
   }
  },
  {
   "cell_type": "code",
   "execution_count": 4,
   "outputs": [
    {
     "name": "stderr",
     "output_type": "stream",
     "text": [
      "[d3blocks] >INFO> Downloading [energy] dataset from github source..\n",
      "[d3blocks] >INFO> Extracting files..\n",
      "[d3blocks] >INFO> Import dataset: [energy]\n"
     ]
    },
    {
     "data": {
      "text/plain": "                     source            target   weight\n0      Agricultural 'waste'    Bio-conversion  124.729\n1            Bio-conversion            Liquid    0.597\n2            Bio-conversion            Losses   26.862\n3            Bio-conversion             Solid  280.322\n4            Bio-conversion               Gas   81.144\n..                      ...               ...      ...\n63       Thermal generation  District heating   79.329\n64                    Tidal  Electricity grid    9.452\n65  UK land based bioenergy    Bio-conversion  182.010\n66                     Wave  Electricity grid   19.013\n67                     Wind  Electricity grid  289.366\n\n[68 rows x 3 columns]",
      "text/html": "<div>\n<style scoped>\n    .dataframe tbody tr th:only-of-type {\n        vertical-align: middle;\n    }\n\n    .dataframe tbody tr th {\n        vertical-align: top;\n    }\n\n    .dataframe thead th {\n        text-align: right;\n    }\n</style>\n<table border=\"1\" class=\"dataframe\">\n  <thead>\n    <tr style=\"text-align: right;\">\n      <th></th>\n      <th>source</th>\n      <th>target</th>\n      <th>weight</th>\n    </tr>\n  </thead>\n  <tbody>\n    <tr>\n      <th>0</th>\n      <td>Agricultural 'waste'</td>\n      <td>Bio-conversion</td>\n      <td>124.729</td>\n    </tr>\n    <tr>\n      <th>1</th>\n      <td>Bio-conversion</td>\n      <td>Liquid</td>\n      <td>0.597</td>\n    </tr>\n    <tr>\n      <th>2</th>\n      <td>Bio-conversion</td>\n      <td>Losses</td>\n      <td>26.862</td>\n    </tr>\n    <tr>\n      <th>3</th>\n      <td>Bio-conversion</td>\n      <td>Solid</td>\n      <td>280.322</td>\n    </tr>\n    <tr>\n      <th>4</th>\n      <td>Bio-conversion</td>\n      <td>Gas</td>\n      <td>81.144</td>\n    </tr>\n    <tr>\n      <th>...</th>\n      <td>...</td>\n      <td>...</td>\n      <td>...</td>\n    </tr>\n    <tr>\n      <th>63</th>\n      <td>Thermal generation</td>\n      <td>District heating</td>\n      <td>79.329</td>\n    </tr>\n    <tr>\n      <th>64</th>\n      <td>Tidal</td>\n      <td>Electricity grid</td>\n      <td>9.452</td>\n    </tr>\n    <tr>\n      <th>65</th>\n      <td>UK land based bioenergy</td>\n      <td>Bio-conversion</td>\n      <td>182.010</td>\n    </tr>\n    <tr>\n      <th>66</th>\n      <td>Wave</td>\n      <td>Electricity grid</td>\n      <td>19.013</td>\n    </tr>\n    <tr>\n      <th>67</th>\n      <td>Wind</td>\n      <td>Electricity grid</td>\n      <td>289.366</td>\n    </tr>\n  </tbody>\n</table>\n<p>68 rows × 3 columns</p>\n</div>"
     },
     "execution_count": 4,
     "metadata": {},
     "output_type": "execute_result"
    }
   ],
   "source": [
    "df = d3.import_example(\"energy\")\n",
    "df"
   ],
   "metadata": {
    "collapsed": false,
    "ExecuteTime": {
     "end_time": "2023-07-02T06:34:49.514886Z",
     "start_time": "2023-07-02T06:34:49.106920Z"
    }
   }
  },
  {
   "cell_type": "code",
   "execution_count": 5,
   "outputs": [
    {
     "name": "stderr",
     "output_type": "stream",
     "text": [
      "[d3blocks] >INFO> Set directed=True to see the markers!\n",
      "[d3blocks] >INFO> Keep only edges with weight>0\n",
      "[d3blocks] >INFO> Number of unique nodes: 48\n",
      "[d3blocks] >INFO> Slider range is set to [0, 840]\n",
      "[d3blocks] >INFO> Write to path: [/var/folders/70/h52ybwk93f90q3nr1gjxhcmh0000gn/T/tmpuksm82ga/d3graph.html]\n",
      "[d3blocks] >INFO> File already exists and will be overwritten: [/var/folders/70/h52ybwk93f90q3nr1gjxhcmh0000gn/T/tmpuksm82ga/d3graph.html]\n"
     ]
    }
   ],
   "source": [
    "d3.d3graph(df, showfig=False)"
   ],
   "metadata": {
    "collapsed": false,
    "ExecuteTime": {
     "end_time": "2023-07-02T06:35:56.375690Z",
     "start_time": "2023-07-02T06:35:55.216022Z"
    }
   }
  },
  {
   "cell_type": "code",
   "execution_count": 6,
   "outputs": [
    {
     "name": "stderr",
     "output_type": "stream",
     "text": [
      "[d3blocks] >INFO> Number of unique nodes: 48\n"
     ]
    }
   ],
   "source": [
    "d3.D3graph.set_node_properties(color=\"cluster\")"
   ],
   "metadata": {
    "collapsed": false,
    "ExecuteTime": {
     "end_time": "2023-07-02T06:39:37.387833Z",
     "start_time": "2023-07-02T06:39:37.363919Z"
    }
   }
  },
  {
   "cell_type": "code",
   "execution_count": 10,
   "outputs": [],
   "source": [
    "d3.D3graph.node_properties[\"Thermal_generation\"][\"size\"] = 20\n",
    "d3.D3graph.node_properties[\"Thermal_generation\"][\"edge_color\"] = \"#000fff\"\n",
    "d3.D3graph.node_properties[\"Thermal_generation\"][\"edge_size\"] = 3\n",
    "\n",
    "d3.D3graph.edge_properties[\"Solar\", \"Solar_Thermal\"][\"color\"] = \"#000fff\"\n",
    "d3.D3graph.edge_properties[\"Solar\", \"Solar_Thermal\"][\"weight_scaled\"] = 10"
   ],
   "metadata": {
    "collapsed": false,
    "ExecuteTime": {
     "end_time": "2023-07-02T06:44:10.444167Z",
     "start_time": "2023-07-02T06:44:10.437136Z"
    }
   }
  },
  {
   "cell_type": "code",
   "execution_count": 11,
   "outputs": [
    {
     "name": "stderr",
     "output_type": "stream",
     "text": [
      "[d3blocks] >INFO> Slider range is set to [0, 840]\n",
      "[d3blocks] >INFO> Write to path: [/var/folders/70/h52ybwk93f90q3nr1gjxhcmh0000gn/T/tmpnjejs4b1/d3graph.html]\n",
      "[d3blocks] >INFO> File already exists and will be overwritten: [/var/folders/70/h52ybwk93f90q3nr1gjxhcmh0000gn/T/tmpnjejs4b1/d3graph.html]\n"
     ]
    }
   ],
   "source": [
    "d3.D3graph.show()"
   ],
   "metadata": {
    "collapsed": false,
    "ExecuteTime": {
     "end_time": "2023-07-02T06:44:54.511816Z",
     "start_time": "2023-07-02T06:44:53.898683Z"
    }
   }
  },
  {
   "cell_type": "code",
   "execution_count": 12,
   "outputs": [],
   "source": [
    "import pandas as pd"
   ],
   "metadata": {
    "collapsed": false,
    "ExecuteTime": {
     "end_time": "2023-07-02T06:50:26.473177Z",
     "start_time": "2023-07-02T06:50:26.469276Z"
    }
   }
  },
  {
   "cell_type": "code",
   "execution_count": 13,
   "outputs": [
    {
     "name": "stderr",
     "output_type": "stream",
     "text": [
      "[d3blocks] >INFO> Cleaning edge_properties and config parameters..\n"
     ]
    }
   ],
   "source": [
    "d3 = D3Blocks()"
   ],
   "metadata": {
    "collapsed": false,
    "ExecuteTime": {
     "end_time": "2023-07-02T06:50:39.753950Z",
     "start_time": "2023-07-02T06:50:39.748770Z"
    }
   }
  },
  {
   "cell_type": "code",
   "execution_count": 16,
   "outputs": [],
   "source": [
    "df = pd.read_csv(\"book1.csv\")"
   ],
   "metadata": {
    "collapsed": false,
    "ExecuteTime": {
     "end_time": "2023-07-02T06:52:52.151867Z",
     "start_time": "2023-07-02T06:52:52.147715Z"
    }
   }
  },
  {
   "cell_type": "code",
   "execution_count": 17,
   "outputs": [
    {
     "data": {
      "text/plain": "                              Source              Target        Type  weight  \\\n0                     Addam-Marbrand     Jaime-Lannister  Undirected       3   \n1                     Addam-Marbrand     Tywin-Lannister  Undirected       6   \n2                  Aegon-I-Targaryen  Daenerys-Targaryen  Undirected       5   \n3                  Aegon-I-Targaryen        Eddard-Stark  Undirected       4   \n4    Aemon-Targaryen-(Maester-Aemon)      Alliser-Thorne  Undirected       4   \n..                               ...                 ...         ...     ...   \n679                 Tyrion-Lannister         Willis-Wode  Undirected       4   \n680                 Tyrion-Lannister               Yoren  Undirected      10   \n681                  Tywin-Lannister               Varys  Undirected       4   \n682                  Tywin-Lannister         Walder-Frey  Undirected       8   \n683                     Waymar-Royce     Will-(prologue)  Undirected      18   \n\n     book  \n0       1  \n1       1  \n2       1  \n3       1  \n4       1  \n..    ...  \n679     1  \n680     1  \n681     1  \n682     1  \n683     1  \n\n[684 rows x 5 columns]",
      "text/html": "<div>\n<style scoped>\n    .dataframe tbody tr th:only-of-type {\n        vertical-align: middle;\n    }\n\n    .dataframe tbody tr th {\n        vertical-align: top;\n    }\n\n    .dataframe thead th {\n        text-align: right;\n    }\n</style>\n<table border=\"1\" class=\"dataframe\">\n  <thead>\n    <tr style=\"text-align: right;\">\n      <th></th>\n      <th>Source</th>\n      <th>Target</th>\n      <th>Type</th>\n      <th>weight</th>\n      <th>book</th>\n    </tr>\n  </thead>\n  <tbody>\n    <tr>\n      <th>0</th>\n      <td>Addam-Marbrand</td>\n      <td>Jaime-Lannister</td>\n      <td>Undirected</td>\n      <td>3</td>\n      <td>1</td>\n    </tr>\n    <tr>\n      <th>1</th>\n      <td>Addam-Marbrand</td>\n      <td>Tywin-Lannister</td>\n      <td>Undirected</td>\n      <td>6</td>\n      <td>1</td>\n    </tr>\n    <tr>\n      <th>2</th>\n      <td>Aegon-I-Targaryen</td>\n      <td>Daenerys-Targaryen</td>\n      <td>Undirected</td>\n      <td>5</td>\n      <td>1</td>\n    </tr>\n    <tr>\n      <th>3</th>\n      <td>Aegon-I-Targaryen</td>\n      <td>Eddard-Stark</td>\n      <td>Undirected</td>\n      <td>4</td>\n      <td>1</td>\n    </tr>\n    <tr>\n      <th>4</th>\n      <td>Aemon-Targaryen-(Maester-Aemon)</td>\n      <td>Alliser-Thorne</td>\n      <td>Undirected</td>\n      <td>4</td>\n      <td>1</td>\n    </tr>\n    <tr>\n      <th>...</th>\n      <td>...</td>\n      <td>...</td>\n      <td>...</td>\n      <td>...</td>\n      <td>...</td>\n    </tr>\n    <tr>\n      <th>679</th>\n      <td>Tyrion-Lannister</td>\n      <td>Willis-Wode</td>\n      <td>Undirected</td>\n      <td>4</td>\n      <td>1</td>\n    </tr>\n    <tr>\n      <th>680</th>\n      <td>Tyrion-Lannister</td>\n      <td>Yoren</td>\n      <td>Undirected</td>\n      <td>10</td>\n      <td>1</td>\n    </tr>\n    <tr>\n      <th>681</th>\n      <td>Tywin-Lannister</td>\n      <td>Varys</td>\n      <td>Undirected</td>\n      <td>4</td>\n      <td>1</td>\n    </tr>\n    <tr>\n      <th>682</th>\n      <td>Tywin-Lannister</td>\n      <td>Walder-Frey</td>\n      <td>Undirected</td>\n      <td>8</td>\n      <td>1</td>\n    </tr>\n    <tr>\n      <th>683</th>\n      <td>Waymar-Royce</td>\n      <td>Will-(prologue)</td>\n      <td>Undirected</td>\n      <td>18</td>\n      <td>1</td>\n    </tr>\n  </tbody>\n</table>\n<p>684 rows × 5 columns</p>\n</div>"
     },
     "execution_count": 17,
     "metadata": {},
     "output_type": "execute_result"
    }
   ],
   "source": [
    "df"
   ],
   "metadata": {
    "collapsed": false,
    "ExecuteTime": {
     "end_time": "2023-07-02T06:52:55.105446Z",
     "start_time": "2023-07-02T06:52:55.101859Z"
    }
   }
  },
  {
   "cell_type": "code",
   "execution_count": 18,
   "outputs": [],
   "source": [
    "df_selected = df.drop([\"Type\", \"book\"], axis=1)"
   ],
   "metadata": {
    "collapsed": false,
    "ExecuteTime": {
     "end_time": "2023-07-02T06:55:14.409720Z",
     "start_time": "2023-07-02T06:55:14.404524Z"
    }
   }
  },
  {
   "cell_type": "code",
   "execution_count": 19,
   "outputs": [],
   "source": [
    "df_selected.columns = [\"source\", \"target\", \"weight\"]"
   ],
   "metadata": {
    "collapsed": false,
    "ExecuteTime": {
     "end_time": "2023-07-02T06:55:49.949942Z",
     "start_time": "2023-07-02T06:55:49.945080Z"
    }
   }
  },
  {
   "cell_type": "code",
   "execution_count": 20,
   "outputs": [
    {
     "name": "stderr",
     "output_type": "stream",
     "text": [
      "[d3blocks] >INFO> Set directed=True to see the markers!\n",
      "[d3blocks] >INFO> Keep only edges with weight>0\n",
      "[d3blocks] >INFO> Number of unique nodes: 187\n",
      "[d3blocks] >INFO> Slider range is set to [2, 291]\n",
      "[d3blocks] >INFO> Write to path: [/var/folders/70/h52ybwk93f90q3nr1gjxhcmh0000gn/T/tmpl8hmdjhr/d3graph.html]\n",
      "[d3blocks] >INFO> File already exists and will be overwritten: [/var/folders/70/h52ybwk93f90q3nr1gjxhcmh0000gn/T/tmpl8hmdjhr/d3graph.html]\n"
     ]
    }
   ],
   "source": [
    "d3.d3graph(df_selected)"
   ],
   "metadata": {
    "collapsed": false,
    "ExecuteTime": {
     "end_time": "2023-07-02T06:56:00.687509Z",
     "start_time": "2023-07-02T06:55:59.748577Z"
    }
   }
  },
  {
   "cell_type": "code",
   "execution_count": null,
   "outputs": [],
   "source": [],
   "metadata": {
    "collapsed": false
   }
  }
 ],
 "metadata": {
  "kernelspec": {
   "display_name": "Python 3",
   "language": "python",
   "name": "python3"
  },
  "language_info": {
   "codemirror_mode": {
    "name": "ipython",
    "version": 2
   },
   "file_extension": ".py",
   "mimetype": "text/x-python",
   "name": "python",
   "nbconvert_exporter": "python",
   "pygments_lexer": "ipython2",
   "version": "2.7.6"
  }
 },
 "nbformat": 4,
 "nbformat_minor": 0
}
