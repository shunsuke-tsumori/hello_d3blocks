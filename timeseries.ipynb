{
 "cells": [
  {
   "cell_type": "code",
   "execution_count": 1,
   "metadata": {
    "collapsed": true,
    "ExecuteTime": {
     "end_time": "2023-07-02T09:43:54.268132Z",
     "start_time": "2023-07-02T09:43:53.066387Z"
    }
   },
   "outputs": [],
   "source": [
    "from d3blocks import D3Blocks"
   ]
  },
  {
   "cell_type": "code",
   "execution_count": 2,
   "outputs": [
    {
     "name": "stderr",
     "output_type": "stream",
     "text": [
      "[d3blocks] >INFO> Cleaning edge_properties and config parameters..\n"
     ]
    }
   ],
   "source": [
    "d3 = D3Blocks()"
   ],
   "metadata": {
    "collapsed": false,
    "ExecuteTime": {
     "end_time": "2023-07-02T09:43:54.275607Z",
     "start_time": "2023-07-02T09:43:54.270558Z"
    }
   }
  },
  {
   "cell_type": "code",
   "execution_count": 3,
   "outputs": [
    {
     "name": "stderr",
     "output_type": "stream",
     "text": [
      "[d3blocks] >INFO> Extracting files..\n",
      "[d3blocks] >INFO> Import dataset: [climate]\n"
     ]
    }
   ],
   "source": [
    "df = d3.import_example(\"climate\")"
   ],
   "metadata": {
    "collapsed": false,
    "ExecuteTime": {
     "end_time": "2023-07-02T09:43:54.286985Z",
     "start_time": "2023-07-02T09:43:54.275998Z"
    }
   }
  },
  {
   "cell_type": "code",
   "execution_count": 4,
   "outputs": [
    {
     "data": {
      "text/plain": "           date   meantemp   humidity  wind_speed  meanpressure\n0    2017-01-01  15.913043  85.869565    2.743478     59.000000\n1    2017-01-02  18.500000  77.222222    2.894444   1018.277778\n2    2017-01-03  17.111111  81.888889    4.016667   1018.333333\n3    2017-01-04  18.700000  70.050000    4.545000   1015.700000\n4    2017-01-05  18.388889  74.944444    3.300000   1014.333333\n..          ...        ...        ...         ...           ...\n109  2017-04-20  34.500000  27.500000    5.562500    998.625000\n110  2017-04-21  34.250000  39.375000    6.962500    999.875000\n111  2017-04-22  32.900000  40.900000    8.890000   1001.600000\n112  2017-04-23  32.875000  27.500000    9.962500   1002.125000\n113  2017-04-24  32.000000  27.142857   12.157143   1004.142857\n\n[114 rows x 5 columns]",
      "text/html": "<div>\n<style scoped>\n    .dataframe tbody tr th:only-of-type {\n        vertical-align: middle;\n    }\n\n    .dataframe tbody tr th {\n        vertical-align: top;\n    }\n\n    .dataframe thead th {\n        text-align: right;\n    }\n</style>\n<table border=\"1\" class=\"dataframe\">\n  <thead>\n    <tr style=\"text-align: right;\">\n      <th></th>\n      <th>date</th>\n      <th>meantemp</th>\n      <th>humidity</th>\n      <th>wind_speed</th>\n      <th>meanpressure</th>\n    </tr>\n  </thead>\n  <tbody>\n    <tr>\n      <th>0</th>\n      <td>2017-01-01</td>\n      <td>15.913043</td>\n      <td>85.869565</td>\n      <td>2.743478</td>\n      <td>59.000000</td>\n    </tr>\n    <tr>\n      <th>1</th>\n      <td>2017-01-02</td>\n      <td>18.500000</td>\n      <td>77.222222</td>\n      <td>2.894444</td>\n      <td>1018.277778</td>\n    </tr>\n    <tr>\n      <th>2</th>\n      <td>2017-01-03</td>\n      <td>17.111111</td>\n      <td>81.888889</td>\n      <td>4.016667</td>\n      <td>1018.333333</td>\n    </tr>\n    <tr>\n      <th>3</th>\n      <td>2017-01-04</td>\n      <td>18.700000</td>\n      <td>70.050000</td>\n      <td>4.545000</td>\n      <td>1015.700000</td>\n    </tr>\n    <tr>\n      <th>4</th>\n      <td>2017-01-05</td>\n      <td>18.388889</td>\n      <td>74.944444</td>\n      <td>3.300000</td>\n      <td>1014.333333</td>\n    </tr>\n    <tr>\n      <th>...</th>\n      <td>...</td>\n      <td>...</td>\n      <td>...</td>\n      <td>...</td>\n      <td>...</td>\n    </tr>\n    <tr>\n      <th>109</th>\n      <td>2017-04-20</td>\n      <td>34.500000</td>\n      <td>27.500000</td>\n      <td>5.562500</td>\n      <td>998.625000</td>\n    </tr>\n    <tr>\n      <th>110</th>\n      <td>2017-04-21</td>\n      <td>34.250000</td>\n      <td>39.375000</td>\n      <td>6.962500</td>\n      <td>999.875000</td>\n    </tr>\n    <tr>\n      <th>111</th>\n      <td>2017-04-22</td>\n      <td>32.900000</td>\n      <td>40.900000</td>\n      <td>8.890000</td>\n      <td>1001.600000</td>\n    </tr>\n    <tr>\n      <th>112</th>\n      <td>2017-04-23</td>\n      <td>32.875000</td>\n      <td>27.500000</td>\n      <td>9.962500</td>\n      <td>1002.125000</td>\n    </tr>\n    <tr>\n      <th>113</th>\n      <td>2017-04-24</td>\n      <td>32.000000</td>\n      <td>27.142857</td>\n      <td>12.157143</td>\n      <td>1004.142857</td>\n    </tr>\n  </tbody>\n</table>\n<p>114 rows × 5 columns</p>\n</div>"
     },
     "execution_count": 4,
     "metadata": {},
     "output_type": "execute_result"
    }
   ],
   "source": [
    "df"
   ],
   "metadata": {
    "collapsed": false,
    "ExecuteTime": {
     "end_time": "2023-07-02T09:43:54.369793Z",
     "start_time": "2023-07-02T09:43:54.294401Z"
    }
   }
  },
  {
   "cell_type": "code",
   "execution_count": 5,
   "outputs": [
    {
     "name": "stderr",
     "output_type": "stream",
     "text": [
      "[d3blocks] >INFO> Initializing [Timeseries]\n",
      "[d3blocks] >INFO> filepath is set to [/var/folders/70/h52ybwk93f90q3nr1gjxhcmh0000gn/T/d3blocks/timeseries.html]\n",
      "[d3blocks] >INFO> Convert to Frame.\n",
      "[d3blocks] >INFO> Node properties are set.\n",
      "[d3blocks] >INFO> Edge properties are set.\n",
      "[d3blocks] >INFO> File already exists and will be overwritten: [/var/folders/70/h52ybwk93f90q3nr1gjxhcmh0000gn/T/d3blocks/timeseries.html]\n",
      "[d3blocks] >INFO> File not found: [file:////var/folders/70/h52ybwk93f90q3nr1gjxhcmh0000gn/T/d3blocks/timeseries.html]\n",
      "[d3blocks] >INFO> Open browser: file:////var/folders/70/h52ybwk93f90q3nr1gjxhcmh0000gn/T/d3blocks/timeseries.html\n"
     ]
    }
   ],
   "source": [
    "d3.timeseries(df, datetime=\"date\", dt_format=\"ISO8601\", fontsize=10)"
   ],
   "metadata": {
    "collapsed": false,
    "ExecuteTime": {
     "end_time": "2023-07-02T09:43:55.106442Z",
     "start_time": "2023-07-02T09:43:54.310782Z"
    }
   }
  },
  {
   "cell_type": "code",
   "execution_count": 6,
   "outputs": [],
   "source": [
    "import pandas as pd"
   ],
   "metadata": {
    "collapsed": false,
    "ExecuteTime": {
     "end_time": "2023-07-02T09:43:55.112247Z",
     "start_time": "2023-07-02T09:43:55.109566Z"
    }
   }
  },
  {
   "cell_type": "code",
   "execution_count": 7,
   "outputs": [],
   "source": [
    "df = pd.read_csv(\"data_raw_Robyn.csv\")"
   ],
   "metadata": {
    "collapsed": false,
    "ExecuteTime": {
     "end_time": "2023-07-02T09:44:09.117844Z",
     "start_time": "2023-07-02T09:44:09.095021Z"
    }
   }
  },
  {
   "cell_type": "code",
   "execution_count": 8,
   "outputs": [
    {
     "name": "stderr",
     "output_type": "stream",
     "text": [
      "[d3blocks] >INFO> Initializing [Timeseries]\n",
      "[d3blocks] >INFO> filepath is set to [/Users/tsumorishunsuke/PycharmProjects/hello_d3blocks/timestream.html]\n",
      "[d3blocks] >INFO> Convert to Frame.\n",
      "[d3blocks] >INFO> Node properties are set.\n",
      "[d3blocks] >INFO> Edge properties are set.\n",
      "[d3blocks] >INFO> File not found: [file:////Users/tsumorishunsuke/PycharmProjects/hello_d3blocks/timestream.html]\n",
      "[d3blocks] >INFO> Open browser: file:////Users/tsumorishunsuke/PycharmProjects/hello_d3blocks/timestream.html\n"
     ]
    }
   ],
   "source": [
    "d3.timeseries(df, filepath=\"./timestream.html\", datetime=\"DATE\", dt_format=\"ISO8601\", fontsize=10)"
   ],
   "metadata": {
    "collapsed": false,
    "ExecuteTime": {
     "end_time": "2023-07-02T09:44:48.456165Z",
     "start_time": "2023-07-02T09:44:48.159225Z"
    }
   }
  },
  {
   "cell_type": "code",
   "execution_count": null,
   "outputs": [],
   "source": [],
   "metadata": {
    "collapsed": false
   }
  }
 ],
 "metadata": {
  "kernelspec": {
   "display_name": "Python 3",
   "language": "python",
   "name": "python3"
  },
  "language_info": {
   "codemirror_mode": {
    "name": "ipython",
    "version": 2
   },
   "file_extension": ".py",
   "mimetype": "text/x-python",
   "name": "python",
   "nbconvert_exporter": "python",
   "pygments_lexer": "ipython2",
   "version": "2.7.6"
  }
 },
 "nbformat": 4,
 "nbformat_minor": 0
}
